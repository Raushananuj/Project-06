{
 "cells": [
  {
   "cell_type": "code",
   "execution_count": 3,
   "metadata": {},
   "outputs": [
    {
     "name": "stderr",
     "output_type": "stream",
     "text": [
      "c:\\Users\\Dell\\AppData\\Local\\Programs\\Python\\Python311\\Lib\\site-packages\\sklearn\\linear_model\\_logistic.py:460: ConvergenceWarning: lbfgs failed to converge (status=1):\n",
      "STOP: TOTAL NO. of ITERATIONS REACHED LIMIT.\n",
      "\n",
      "Increase the number of iterations (max_iter) or scale the data as shown in:\n",
      "    https://scikit-learn.org/stable/modules/preprocessing.html\n",
      "Please also refer to the documentation for alternative solver options:\n",
      "    https://scikit-learn.org/stable/modules/linear_model.html#logistic-regression\n",
      "  n_iter_i = _check_optimize_result(\n"
     ]
    },
    {
     "name": "stdout",
     "output_type": "stream",
     "text": [
      "Mean accuracy: 0.15906409752261108\n",
      "Model saved in run 458bab2d671743f8bd84341113371ad4\n"
     ]
    },
    {
     "name": "stderr",
     "output_type": "stream",
     "text": [
      "c:\\Users\\Dell\\AppData\\Local\\Programs\\Python\\Python311\\Lib\\site-packages\\_distutils_hack\\__init__.py:18: UserWarning: Distutils was imported before Setuptools, but importing Setuptools also replaces the `distutils` module in `sys.modules`. This may lead to undesirable behaviors or errors. To avoid these issues, avoid using distutils directly, ensure that setuptools is installed in the traditional way (e.g. not an editable install), and/or make sure that setuptools is always imported before distutils.\n",
      "  warnings.warn(\n",
      "c:\\Users\\Dell\\AppData\\Local\\Programs\\Python\\Python311\\Lib\\site-packages\\_distutils_hack\\__init__.py:33: UserWarning: Setuptools is replacing distutils.\n",
      "  warnings.warn(\"Setuptools is replacing distutils.\")\n"
     ]
    }
   ],
   "source": [
    "import pandas as pd\n",
    "import sys\n",
    "from sklearn.linear_model import LogisticRegression\n",
    "from sklearn.tree import DecisionTreeRegressor\n",
    "\n",
    "import mlflow\n",
    "import mlflow.sklearn\n",
    "\n",
    "if __name__ == \"__main__\":\n",
    "    # read experiment parameters\n",
    "    dataset = str(sys.argv[1]) if len(sys.argv) > 1 else \"finel_train_data.csv\"\n",
    "    C = float(sys.argv[2]) if len(sys.argv) > 2 else 1.0\n",
    "\n",
    "    # start mlflow run\n",
    "    with mlflow.start_run():\n",
    "        # log run parameters\n",
    "        mlflow.log_param(\"dataset\", dataset)\n",
    "        mlflow.log_param(\"C\", C)\n",
    "        \n",
    "        # read dataset\n",
    "        df = pd.read_csv(r'finel_train_data.csv')\n",
    "        # Sample a fraction of the dataset (e.g., 50%)\n",
    "        data = df.sample(frac=0.005, random_state=30)  # Adjust the fraction as needed\n",
    "        # Save the sampled data to a new CSV file\n",
    "        data.to_csv('sampled_data.csv', index=False)\n",
    "        \n",
    "        df1 = pd.read_csv(r'sampled_data.csv')\n",
    "\n",
    "        # train model\n",
    "        model = LogisticRegression()\n",
    "        y = df1['Sales']\n",
    "        x = df1.drop(['Sales'],axis=1)\n",
    "        model.fit(x, y)\n",
    "\n",
    "        # score model\n",
    "        mean_accuracy = model.score(x, y)\n",
    "        print(f\"Mean accuracy: {mean_accuracy}\")\n",
    "\n",
    "        # log run metrics\n",
    "        mlflow.log_metric(\"mean accuracy\", mean_accuracy)\n",
    "\n",
    "        # export model\n",
    "        mlflow.sklearn.log_model(model, \"model\")\n",
    "        run_id = mlflow.active_run().info.run_uuid\n",
    "        print(f\"Model saved in run {run_id}\")"
   ]
  },
  {
   "cell_type": "code",
   "execution_count": 5,
   "metadata": {},
   "outputs": [
    {
     "name": "stdout",
     "output_type": "stream",
     "text": [
      "Mean accuracy: 1.0\n",
      "Model saved in run 83cdc83d5af340979bfefa1c447df818\n"
     ]
    },
    {
     "name": "stderr",
     "output_type": "stream",
     "text": [
      "c:\\Users\\Dell\\AppData\\Local\\Programs\\Python\\Python311\\Lib\\site-packages\\_distutils_hack\\__init__.py:18: UserWarning: Distutils was imported before Setuptools, but importing Setuptools also replaces the `distutils` module in `sys.modules`. This may lead to undesirable behaviors or errors. To avoid these issues, avoid using distutils directly, ensure that setuptools is installed in the traditional way (e.g. not an editable install), and/or make sure that setuptools is always imported before distutils.\n",
      "  warnings.warn(\n",
      "c:\\Users\\Dell\\AppData\\Local\\Programs\\Python\\Python311\\Lib\\site-packages\\_distutils_hack\\__init__.py:33: UserWarning: Setuptools is replacing distutils.\n",
      "  warnings.warn(\"Setuptools is replacing distutils.\")\n"
     ]
    }
   ],
   "source": [
    "import pandas as pd\n",
    "import sys\n",
    "\n",
    "from sklearn.tree import DecisionTreeRegressor\n",
    "\n",
    "import mlflow\n",
    "import mlflow.sklearn\n",
    "\n",
    "if __name__ == \"__main__\":\n",
    "    # read experiment parameters\n",
    "    dataset = str(sys.argv[1]) if len(sys.argv) > 1 else \"data.csv\"\n",
    "    C = float(sys.argv[2]) if len(sys.argv) > 2 else 1.0\n",
    "\n",
    "    # start mlflow run\n",
    "    with mlflow.start_run():\n",
    "        # log run parameters\n",
    "        mlflow.log_param(\"dataset\", dataset)\n",
    "        mlflow.log_param(\"C\", C)\n",
    "        \n",
    "        # read dataset\n",
    "        df = pd.read_csv(r'finel_train_data.csv')\n",
    "        # Sample a fraction of the dataset (e.g., 50%)\n",
    "        data = df.sample(frac=0.01, random_state=42)  # Adjust the fraction as needed\n",
    "        # Save the sampled data to a new CSV file\n",
    "        data.to_csv('sampled_data.csv', index=False)\n",
    "        \n",
    "        df1 = pd.read_csv(r'sampled_data.csv')\n",
    "\n",
    "        # train model\n",
    "        model = DecisionTreeRegressor()\n",
    "        y = df1['Sales']\n",
    "        x = df1.drop(['Sales'],axis=1)\n",
    "        model.fit(x, y)\n",
    "\n",
    "        # score model\n",
    "        mean_accuracy = model.score(x, y)\n",
    "        print(f\"Mean accuracy: {mean_accuracy}\")\n",
    "\n",
    "        # log run metrics\n",
    "        mlflow.log_metric(\"mean accuracy\", mean_accuracy)\n",
    "\n",
    "        # export model\n",
    "        mlflow.sklearn.log_model(model, \"model\")\n",
    "        run_id = mlflow.active_run().info.run_uuid\n",
    "        print(f\"Model saved in run {run_id}\")"
   ]
  }
 ],
 "metadata": {
  "kernelspec": {
   "display_name": "Python 3",
   "language": "python",
   "name": "python3"
  },
  "language_info": {
   "codemirror_mode": {
    "name": "ipython",
    "version": 3
   },
   "file_extension": ".py",
   "mimetype": "text/x-python",
   "name": "python",
   "nbconvert_exporter": "python",
   "pygments_lexer": "ipython3",
   "version": "3.11.5"
  }
 },
 "nbformat": 4,
 "nbformat_minor": 2
}
